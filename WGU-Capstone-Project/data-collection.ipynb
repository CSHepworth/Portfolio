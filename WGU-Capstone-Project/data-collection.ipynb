{
 "cells": [
  {
   "cell_type": "code",
   "execution_count": 1,
   "metadata": {},
   "outputs": [],
   "source": [
    "import pandas as pd\n",
    "import requests\n",
    "from bs4 import BeautifulSoup"
   ]
  },
  {
   "cell_type": "code",
   "execution_count": null,
   "metadata": {},
   "outputs": [
    {
     "data": {
      "text/plain": [
       "'\\nlink = \"https://www.draglist.com/draglist/category.php?VIEW=Compact&CATEGORY%5B0%5D=TOPFUEL&x=dragsters&SORTBY=&page=\"\\n\\ndef get_data_from_url(l):\\n    data = pd.DataFrame()\\n    i = 1\\n    for i in range(1, 320):\\n        url = l + str(i)\\n        r = requests.get(url)\\n        soup = BeautifulSoup(r.content, \"html.parser\")\\n        s = soup.find(\"table\", class_ = \"draglist\")\\n        d = pd.read_html(str(s))[0]\\n        data = pd.concat([data, d], axis = 0)\\n\\n    return data\\n\\ndrag_data = get_data_from_url(link)\\n\\ndrag_data.to_csv(\"drag_race_data_0.csv\", index = False)\\n'"
      ]
     },
     "execution_count": 2,
     "metadata": {},
     "output_type": "execute_result"
    }
   ],
   "source": [
    "def get_data_from_url(l):\n",
    "    data = pd.DataFrame()\n",
    "    i = 1\n",
    "    for i in range(1, 320):\n",
    "        url = l + str(i)\n",
    "        r = requests.get(url)\n",
    "        soup = BeautifulSoup(r.content, \"html.parser\")\n",
    "        s = soup.find(\"table\", class_ = \"draglist\")\n",
    "        d = pd.read_html(str(s))[0]\n",
    "        data = pd.concat([data, d], axis = 0)\n",
    "\n",
    "    return data"
   ]
  },
  {
   "cell_type": "code",
   "execution_count": null,
   "metadata": {},
   "outputs": [],
   "source": [
    "link = \"https://www.draglist.com/draglist/category.php?VIEW=Compact&CATEGORY%5B0%5D=TOPFUEL&x=dragsters&SORTBY=&page=\"\n",
    "\n",
    "drag_data = get_data_from_url(link)\n",
    "\n",
    "drag_data.to_csv(\"drag_race_data_0.csv\", index = False)"
   ]
  }
 ],
 "metadata": {
  "kernelspec": {
   "display_name": "base",
   "language": "python",
   "name": "python3"
  },
  "language_info": {
   "codemirror_mode": {
    "name": "ipython",
    "version": 3
   },
   "file_extension": ".py",
   "mimetype": "text/x-python",
   "name": "python",
   "nbconvert_exporter": "python",
   "pygments_lexer": "ipython3",
   "version": "3.11.5"
  }
 },
 "nbformat": 4,
 "nbformat_minor": 2
}
