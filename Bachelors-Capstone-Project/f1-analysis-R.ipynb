{
 "cells": [
  {
   "cell_type": "code",
   "execution_count": 1,
   "metadata": {
    "vscode": {
     "languageId": "r"
    }
   },
   "outputs": [
    {
     "name": "stderr",
     "output_type": "stream",
     "text": [
      "Registered S3 methods overwritten by 'ggplot2':\n",
      "  method         from \n",
      "  [.quosures     rlang\n",
      "  c.quosures     rlang\n",
      "  print.quosures rlang\n",
      "\n",
      "Attaching package: 'dplyr'\n",
      "\n",
      "The following objects are masked from 'package:stats':\n",
      "\n",
      "    filter, lag\n",
      "\n",
      "The following objects are masked from 'package:base':\n",
      "\n",
      "    intersect, setdiff, setequal, union\n",
      "\n",
      "\n",
      "Attaching package: 'lubridate'\n",
      "\n",
      "The following object is masked from 'package:base':\n",
      "\n",
      "    date\n",
      "\n",
      "Loading required package: Matrix\n",
      "Warning message:\n",
      "\"package 'Matrix' was built under R version 3.6.3\"\n",
      "Attaching package: 'Matrix'\n",
      "\n",
      "The following object is masked from 'package:tidyr':\n",
      "\n",
      "    expand\n",
      "\n"
     ]
    }
   ],
   "source": [
    "library(ggplot2)\n",
    "library(tidyr)\n",
    "library(dplyr)\n",
    "library(lubridate)\n",
    "library(lme4)"
   ]
  },
  {
   "cell_type": "code",
   "execution_count": 2,
   "metadata": {
    "vscode": {
     "languageId": "r"
    }
   },
   "outputs": [
    {
     "data": {
      "text/html": [
       "<ol class=list-inline>\n",
       "\t<li>'resultId'</li>\n",
       "\t<li>'raceId'</li>\n",
       "\t<li>'driverId'</li>\n",
       "\t<li>'constructorId'</li>\n",
       "\t<li>'driverName'</li>\n",
       "\t<li>'constructorName'</li>\n",
       "\t<li>'overallTimeMsec'</li>\n",
       "\t<li>'fastestLapTimeMsec'</li>\n",
       "\t<li>'fastestLapSpeed'</li>\n",
       "\t<li>'position'</li>\n",
       "\t<li>'laps'</li>\n",
       "\t<li>'finishedRace'</li>\n",
       "\t<li>'date'</li>\n",
       "\t<li>'year'</li>\n",
       "\t<li>'month'</li>\n",
       "\t<li>'day'</li>\n",
       "\t<li>'win'</li>\n",
       "</ol>\n"
      ],
      "text/latex": [
       "\\begin{enumerate*}\n",
       "\\item 'resultId'\n",
       "\\item 'raceId'\n",
       "\\item 'driverId'\n",
       "\\item 'constructorId'\n",
       "\\item 'driverName'\n",
       "\\item 'constructorName'\n",
       "\\item 'overallTimeMsec'\n",
       "\\item 'fastestLapTimeMsec'\n",
       "\\item 'fastestLapSpeed'\n",
       "\\item 'position'\n",
       "\\item 'laps'\n",
       "\\item 'finishedRace'\n",
       "\\item 'date'\n",
       "\\item 'year'\n",
       "\\item 'month'\n",
       "\\item 'day'\n",
       "\\item 'win'\n",
       "\\end{enumerate*}\n"
      ],
      "text/markdown": [
       "1. 'resultId'\n",
       "2. 'raceId'\n",
       "3. 'driverId'\n",
       "4. 'constructorId'\n",
       "5. 'driverName'\n",
       "6. 'constructorName'\n",
       "7. 'overallTimeMsec'\n",
       "8. 'fastestLapTimeMsec'\n",
       "9. 'fastestLapSpeed'\n",
       "10. 'position'\n",
       "11. 'laps'\n",
       "12. 'finishedRace'\n",
       "13. 'date'\n",
       "14. 'year'\n",
       "15. 'month'\n",
       "16. 'day'\n",
       "17. 'win'\n",
       "\n",
       "\n"
      ],
      "text/plain": [
       " [1] \"resultId\"           \"raceId\"             \"driverId\"          \n",
       " [4] \"constructorId\"      \"driverName\"         \"constructorName\"   \n",
       " [7] \"overallTimeMsec\"    \"fastestLapTimeMsec\" \"fastestLapSpeed\"   \n",
       "[10] \"position\"           \"laps\"               \"finishedRace\"      \n",
       "[13] \"date\"               \"year\"               \"month\"             \n",
       "[16] \"day\"                \"win\"               "
      ]
     },
     "metadata": {},
     "output_type": "display_data"
    }
   ],
   "source": [
    "f1data <- read.csv(\"f1_results_data.csv\")\n",
    "\n",
    "names(f1data)"
   ]
  },
  {
   "cell_type": "code",
   "execution_count": 3,
   "metadata": {
    "vscode": {
     "languageId": "r"
    }
   },
   "outputs": [
    {
     "data": {
      "text/html": [
       "<ol class=list-inline>\n",
       "\t<li>26739</li>\n",
       "\t<li>4</li>\n",
       "</ol>\n"
      ],
      "text/latex": [
       "\\begin{enumerate*}\n",
       "\\item 26739\n",
       "\\item 4\n",
       "\\end{enumerate*}\n"
      ],
      "text/markdown": [
       "1. 26739\n",
       "2. 4\n",
       "\n",
       "\n"
      ],
      "text/plain": [
       "[1] 26739     4"
      ]
     },
     "metadata": {},
     "output_type": "display_data"
    },
    {
     "data": {
      "text/html": [
       "<ol class=list-inline>\n",
       "\t<li>'raceId'</li>\n",
       "\t<li>'driverName'</li>\n",
       "\t<li>'constructorName'</li>\n",
       "\t<li>'position'</li>\n",
       "</ol>\n"
      ],
      "text/latex": [
       "\\begin{enumerate*}\n",
       "\\item 'raceId'\n",
       "\\item 'driverName'\n",
       "\\item 'constructorName'\n",
       "\\item 'position'\n",
       "\\end{enumerate*}\n"
      ],
      "text/markdown": [
       "1. 'raceId'\n",
       "2. 'driverName'\n",
       "3. 'constructorName'\n",
       "4. 'position'\n",
       "\n",
       "\n"
      ],
      "text/plain": [
       "[1] \"raceId\"          \"driverName\"      \"constructorName\" \"position\"       "
      ]
     },
     "metadata": {},
     "output_type": "display_data"
    }
   ],
   "source": [
    "position_model_data <- f1data[, c(\"raceId\", \"driverName\", \"constructorName\", \"position\")] # nolint: line_length_linter.\n",
    "\n",
    "dim(position_model_data)\n",
    "names(position_model_data)"
   ]
  },
  {
   "cell_type": "code",
   "execution_count": 4,
   "metadata": {
    "vscode": {
     "languageId": "r"
    }
   },
   "outputs": [
    {
     "data": {
      "text/plain": [
       "'log Lik.' -43958.44 (df=3)"
      ]
     },
     "metadata": {},
     "output_type": "display_data"
    },
    {
     "data": {
      "text/plain": [
       "'log Lik.' -44282.69 (df=3)"
      ]
     },
     "metadata": {},
     "output_type": "display_data"
    },
    {
     "data": {
      "text/plain": [
       "'log Lik.' -42854.63 (df=4)"
      ]
     },
     "metadata": {},
     "output_type": "display_data"
    }
   ],
   "source": [
    "position_model_driver <- lmer(position ~ 1 + (1 | driverName), data = position_model_data, REML = TRUE) # nolint: line_length_linter.\n",
    "position_model_constructor <- lmer(position ~ 1 + (1 | constructorName), data = position_model_data, REML = TRUE) # nolint: line_length_linter.\n",
    "position_model_combined <- lmer(position ~ 1 + (1 | driverName) + (1 | constructorName), data = position_model_data, REML = TRUE) # nolint: line_length_linter.\n",
    "\n",
    "logLik(position_model_driver)\n",
    "logLik(position_model_constructor)\n",
    "logLik(position_model_combined)"
   ]
  },
  {
   "cell_type": "code",
   "execution_count": 5,
   "metadata": {
    "vscode": {
     "languageId": "r"
    }
   },
   "outputs": [
    {
     "name": "stderr",
     "output_type": "stream",
     "text": [
      "refitting model(s) with ML (instead of REML)\n"
     ]
    },
    {
     "data": {
      "text/html": [
       "<table>\n",
       "<thead><tr><th></th><th scope=col>Df</th><th scope=col>AIC</th><th scope=col>BIC</th><th scope=col>logLik</th><th scope=col>deviance</th><th scope=col>Chisq</th><th scope=col>Chi Df</th><th scope=col>Pr(&gt;Chisq)</th></tr></thead>\n",
       "<tbody>\n",
       "\t<tr><th scope=row>position_model_driver</th><td>3        </td><td>87920.88 </td><td>87943.88 </td><td>-43957.44</td><td>87914.88 </td><td>      NA </td><td>NA       </td><td>NA       </td></tr>\n",
       "\t<tr><th scope=row>position_model_combined</th><td>4        </td><td>85716.30 </td><td>85746.97 </td><td>-42854.15</td><td>85708.30 </td><td>2206.577 </td><td> 1       </td><td> 0       </td></tr>\n",
       "</tbody>\n",
       "</table>\n"
      ],
      "text/latex": [
       "\\begin{tabular}{r|llllllll}\n",
       "  & Df & AIC & BIC & logLik & deviance & Chisq & Chi Df & Pr(>Chisq)\\\\\n",
       "\\hline\n",
       "\tposition\\_model\\_driver & 3         & 87920.88  & 87943.88  & -43957.44 & 87914.88  &       NA  & NA        & NA       \\\\\n",
       "\tposition\\_model\\_combined & 4         & 85716.30  & 85746.97  & -42854.15 & 85708.30  & 2206.577  &  1        &  0       \\\\\n",
       "\\end{tabular}\n"
      ],
      "text/markdown": [
       "\n",
       "| <!--/--> | Df | AIC | BIC | logLik | deviance | Chisq | Chi Df | Pr(>Chisq) |\n",
       "|---|---|---|---|---|---|---|---|---|\n",
       "| position_model_driver | 3         | 87920.88  | 87943.88  | -43957.44 | 87914.88  |       NA  | NA        | NA        |\n",
       "| position_model_combined | 4         | 85716.30  | 85746.97  | -42854.15 | 85708.30  | 2206.577  |  1        |  0        |\n",
       "\n"
      ],
      "text/plain": [
       "                        Df AIC      BIC      logLik    deviance Chisq    Chi Df\n",
       "position_model_driver   3  87920.88 87943.88 -43957.44 87914.88       NA NA    \n",
       "position_model_combined 4  85716.30 85746.97 -42854.15 85708.30 2206.577  1    \n",
       "                        Pr(>Chisq)\n",
       "position_model_driver   NA        \n",
       "position_model_combined  0        "
      ]
     },
     "metadata": {},
     "output_type": "display_data"
    }
   ],
   "source": [
    "anova(position_model_driver, position_model_combined)"
   ]
  },
  {
   "cell_type": "code",
   "execution_count": 6,
   "metadata": {
    "vscode": {
     "languageId": "r"
    }
   },
   "outputs": [
    {
     "name": "stderr",
     "output_type": "stream",
     "text": [
      "refitting model(s) with ML (instead of REML)\n"
     ]
    },
    {
     "data": {
      "text/html": [
       "<table>\n",
       "<thead><tr><th></th><th scope=col>Df</th><th scope=col>AIC</th><th scope=col>BIC</th><th scope=col>logLik</th><th scope=col>deviance</th><th scope=col>Chisq</th><th scope=col>Chi Df</th><th scope=col>Pr(&gt;Chisq)</th></tr></thead>\n",
       "<tbody>\n",
       "\t<tr><th scope=row>position_model_constructor</th><td>3        </td><td>88570.61 </td><td>88593.61 </td><td>-44282.31</td><td>88564.61 </td><td>      NA </td><td>NA       </td><td>NA       </td></tr>\n",
       "\t<tr><th scope=row>position_model_combined</th><td>4        </td><td>85716.30 </td><td>85746.97 </td><td>-42854.15</td><td>85708.30 </td><td>2856.309 </td><td> 1       </td><td> 0       </td></tr>\n",
       "</tbody>\n",
       "</table>\n"
      ],
      "text/latex": [
       "\\begin{tabular}{r|llllllll}\n",
       "  & Df & AIC & BIC & logLik & deviance & Chisq & Chi Df & Pr(>Chisq)\\\\\n",
       "\\hline\n",
       "\tposition\\_model\\_constructor & 3         & 88570.61  & 88593.61  & -44282.31 & 88564.61  &       NA  & NA        & NA       \\\\\n",
       "\tposition\\_model\\_combined & 4         & 85716.30  & 85746.97  & -42854.15 & 85708.30  & 2856.309  &  1        &  0       \\\\\n",
       "\\end{tabular}\n"
      ],
      "text/markdown": [
       "\n",
       "| <!--/--> | Df | AIC | BIC | logLik | deviance | Chisq | Chi Df | Pr(>Chisq) |\n",
       "|---|---|---|---|---|---|---|---|---|\n",
       "| position_model_constructor | 3         | 88570.61  | 88593.61  | -44282.31 | 88564.61  |       NA  | NA        | NA        |\n",
       "| position_model_combined | 4         | 85716.30  | 85746.97  | -42854.15 | 85708.30  | 2856.309  |  1        |  0        |\n",
       "\n"
      ],
      "text/plain": [
       "                           Df AIC      BIC      logLik    deviance Chisq   \n",
       "position_model_constructor 3  88570.61 88593.61 -44282.31 88564.61       NA\n",
       "position_model_combined    4  85716.30 85746.97 -42854.15 85708.30 2856.309\n",
       "                           Chi Df Pr(>Chisq)\n",
       "position_model_constructor NA     NA        \n",
       "position_model_combined     1      0        "
      ]
     },
     "metadata": {},
     "output_type": "display_data"
    }
   ],
   "source": [
    "anova(position_model_constructor, position_model_combined)"
   ]
  },
  {
   "cell_type": "code",
   "execution_count": 7,
   "metadata": {
    "vscode": {
     "languageId": "r"
    }
   },
   "outputs": [
    {
     "name": "stderr",
     "output_type": "stream",
     "text": [
      "refitting model(s) with ML (instead of REML)\n"
     ]
    },
    {
     "data": {
      "text/html": [
       "<table>\n",
       "<thead><tr><th></th><th scope=col>Df</th><th scope=col>AIC</th><th scope=col>BIC</th><th scope=col>logLik</th><th scope=col>deviance</th><th scope=col>Chisq</th><th scope=col>Chi Df</th><th scope=col>Pr(&gt;Chisq)</th></tr></thead>\n",
       "<tbody>\n",
       "\t<tr><th scope=row>position_model_driver</th><td>3        </td><td>87920.88 </td><td>87943.88 </td><td>-43957.44</td><td>87914.88 </td><td>NA       </td><td>NA       </td><td>NA       </td></tr>\n",
       "\t<tr><th scope=row>position_model_constructor</th><td>3        </td><td>88570.61 </td><td>88593.61 </td><td>-44282.31</td><td>88564.61 </td><td> 0       </td><td> 0       </td><td> 1       </td></tr>\n",
       "</tbody>\n",
       "</table>\n"
      ],
      "text/latex": [
       "\\begin{tabular}{r|llllllll}\n",
       "  & Df & AIC & BIC & logLik & deviance & Chisq & Chi Df & Pr(>Chisq)\\\\\n",
       "\\hline\n",
       "\tposition\\_model\\_driver & 3         & 87920.88  & 87943.88  & -43957.44 & 87914.88  & NA        & NA        & NA       \\\\\n",
       "\tposition\\_model\\_constructor & 3         & 88570.61  & 88593.61  & -44282.31 & 88564.61  &  0        &  0        &  1       \\\\\n",
       "\\end{tabular}\n"
      ],
      "text/markdown": [
       "\n",
       "| <!--/--> | Df | AIC | BIC | logLik | deviance | Chisq | Chi Df | Pr(>Chisq) |\n",
       "|---|---|---|---|---|---|---|---|---|\n",
       "| position_model_driver | 3         | 87920.88  | 87943.88  | -43957.44 | 87914.88  | NA        | NA        | NA        |\n",
       "| position_model_constructor | 3         | 88570.61  | 88593.61  | -44282.31 | 88564.61  |  0        |  0        |  1        |\n",
       "\n"
      ],
      "text/plain": [
       "                           Df AIC      BIC      logLik    deviance Chisq Chi Df\n",
       "position_model_driver      3  87920.88 87943.88 -43957.44 87914.88 NA    NA    \n",
       "position_model_constructor 3  88570.61 88593.61 -44282.31 88564.61  0     0    \n",
       "                           Pr(>Chisq)\n",
       "position_model_driver      NA        \n",
       "position_model_constructor  1        "
      ]
     },
     "metadata": {},
     "output_type": "display_data"
    }
   ],
   "source": [
    "anova(position_model_driver, position_model_constructor)"
   ]
  },
  {
   "cell_type": "code",
   "execution_count": 8,
   "metadata": {
    "vscode": {
     "languageId": "r"
    }
   },
   "outputs": [
    {
     "data": {
      "text/plain": [
       "Linear mixed model fit by REML ['lmerMod']\n",
       "Formula: position ~ 1 + (1 | driverName) + (1 | constructorName)\n",
       "   Data: position_model_data\n",
       "\n",
       "REML criterion at convergence: 85709.3\n",
       "\n",
       "Scaled residuals: \n",
       "    Min      1Q  Median      3Q     Max \n",
       "-3.4716 -0.6999 -0.1236  0.5845  5.4866 \n",
       "\n",
       "Random effects:\n",
       " Groups          Name        Variance Std.Dev.\n",
       " driverName      (Intercept)  5.695   2.386   \n",
       " constructorName (Intercept)  6.209   2.492   \n",
       " Residual                    12.187   3.491   \n",
       "Number of obs: 15789, groups:  driverName, 658; constructorName, 162\n",
       "\n",
       "Fixed effects:\n",
       "            Estimate Std. Error t value\n",
       "(Intercept)  10.3201     0.2466   41.85"
      ]
     },
     "metadata": {},
     "output_type": "display_data"
    }
   ],
   "source": [
    "summary(position_model_combined)"
   ]
  },
  {
   "cell_type": "code",
   "execution_count": 9,
   "metadata": {
    "vscode": {
     "languageId": "r"
    }
   },
   "outputs": [
    {
     "data": {
      "text/html": [
       "<ol class=list-inline>\n",
       "\t<li>26739</li>\n",
       "\t<li>4</li>\n",
       "</ol>\n"
      ],
      "text/latex": [
       "\\begin{enumerate*}\n",
       "\\item 26739\n",
       "\\item 4\n",
       "\\end{enumerate*}\n"
      ],
      "text/markdown": [
       "1. 26739\n",
       "2. 4\n",
       "\n",
       "\n"
      ],
      "text/plain": [
       "[1] 26739     4"
      ]
     },
     "metadata": {},
     "output_type": "display_data"
    },
    {
     "data": {
      "text/html": [
       "<ol class=list-inline>\n",
       "\t<li>'raceId'</li>\n",
       "\t<li>'driverId'</li>\n",
       "\t<li>'constructorId'</li>\n",
       "\t<li>'win'</li>\n",
       "</ol>\n"
      ],
      "text/latex": [
       "\\begin{enumerate*}\n",
       "\\item 'raceId'\n",
       "\\item 'driverId'\n",
       "\\item 'constructorId'\n",
       "\\item 'win'\n",
       "\\end{enumerate*}\n"
      ],
      "text/markdown": [
       "1. 'raceId'\n",
       "2. 'driverId'\n",
       "3. 'constructorId'\n",
       "4. 'win'\n",
       "\n",
       "\n"
      ],
      "text/plain": [
       "[1] \"raceId\"        \"driverId\"      \"constructorId\" \"win\"          "
      ]
     },
     "metadata": {},
     "output_type": "display_data"
    }
   ],
   "source": [
    "win_model_data <- f1data[, c(\"raceId\", \"driverId\", \"constructorId\", \"win\")]\n",
    "\n",
    "dim(win_model_data)\n",
    "names(win_model_data)"
   ]
  },
  {
   "cell_type": "code",
   "execution_count": 10,
   "metadata": {
    "vscode": {
     "languageId": "r"
    }
   },
   "outputs": [
    {
     "data": {
      "text/plain": [
       "Linear mixed model fit by REML ['lmerMod']\n",
       "Formula: win ~ 1 + (1 | driverId) + (1 | constructorId)\n",
       "   Data: win_model_data\n",
       "\n",
       "REML criterion at convergence: -13029.6\n",
       "\n",
       "Scaled residuals: \n",
       "    Min      1Q  Median      3Q     Max \n",
       "-2.0423 -0.2753 -0.0488 -0.0012  5.3504 \n",
       "\n",
       "Random effects:\n",
       " Groups        Name        Variance  Std.Dev.\n",
       " driverId      (Intercept) 0.0020886 0.04570 \n",
       " constructorId (Intercept) 0.0006427 0.02535 \n",
       " Residual                  0.0350180 0.18713 \n",
       "Number of obs: 26739, groups:  driverId, 860; constructorId, 211\n",
       "\n",
       "Fixed effects:\n",
       "            Estimate Std. Error t value\n",
       "(Intercept) 0.016029   0.003614   4.435"
      ]
     },
     "metadata": {},
     "output_type": "display_data"
    }
   ],
   "source": [
    "win_model <- lmer(win ~ 1 + (1 | driverId) + (1 | constructorId), data = win_model_data) # nolint: line_length_linter.\n",
    "summary(win_model)"
   ]
  },
  {
   "cell_type": "code",
   "execution_count": 11,
   "metadata": {
    "vscode": {
     "languageId": "r"
    }
   },
   "outputs": [
    {
     "data": {
      "text/html": [
       "<ol class=list-inline>\n",
       "\t<li>26739</li>\n",
       "\t<li>4</li>\n",
       "</ol>\n"
      ],
      "text/latex": [
       "\\begin{enumerate*}\n",
       "\\item 26739\n",
       "\\item 4\n",
       "\\end{enumerate*}\n"
      ],
      "text/markdown": [
       "1. 26739\n",
       "2. 4\n",
       "\n",
       "\n"
      ],
      "text/plain": [
       "[1] 26739     4"
      ]
     },
     "metadata": {},
     "output_type": "display_data"
    },
    {
     "data": {
      "text/html": [
       "<ol class=list-inline>\n",
       "\t<li>'raceId'</li>\n",
       "\t<li>'driverId'</li>\n",
       "\t<li>'constructorId'</li>\n",
       "\t<li>'finishedRace'</li>\n",
       "</ol>\n"
      ],
      "text/latex": [
       "\\begin{enumerate*}\n",
       "\\item 'raceId'\n",
       "\\item 'driverId'\n",
       "\\item 'constructorId'\n",
       "\\item 'finishedRace'\n",
       "\\end{enumerate*}\n"
      ],
      "text/markdown": [
       "1. 'raceId'\n",
       "2. 'driverId'\n",
       "3. 'constructorId'\n",
       "4. 'finishedRace'\n",
       "\n",
       "\n"
      ],
      "text/plain": [
       "[1] \"raceId\"        \"driverId\"      \"constructorId\" \"finishedRace\" "
      ]
     },
     "metadata": {},
     "output_type": "display_data"
    }
   ],
   "source": [
    "finish_model_data <- f1data[, c(\"raceId\", \"driverId\", \"constructorId\", \"finishedRace\")] # nolint: line_length_linter.\n",
    "\n",
    "dim(finish_model_data)\n",
    "names(finish_model_data)"
   ]
  },
  {
   "cell_type": "code",
   "execution_count": 12,
   "metadata": {
    "vscode": {
     "languageId": "r"
    }
   },
   "outputs": [
    {
     "data": {
      "text/plain": [
       "Linear mixed model fit by REML ['lmerMod']\n",
       "Formula: finishedRace ~ 1 + (1 | driverId) + (1 | constructorId)\n",
       "   Data: finish_model_data\n",
       "\n",
       "REML criterion at convergence: 25170.3\n",
       "\n",
       "Scaled residuals: \n",
       "    Min      1Q  Median      3Q     Max \n",
       "-2.4275 -0.6556 -0.1483  0.6885  2.8203 \n",
       "\n",
       "Random effects:\n",
       " Groups        Name        Variance Std.Dev.\n",
       " driverId      (Intercept) 0.01459  0.1208  \n",
       " constructorId (Intercept) 0.01782  0.1335  \n",
       " Residual                  0.14414  0.3797  \n",
       "Number of obs: 26739, groups:  driverId, 860; constructorId, 211\n",
       "\n",
       "Fixed effects:\n",
       "            Estimate Std. Error t value\n",
       "(Intercept)  0.11974    0.01294   9.253"
      ]
     },
     "metadata": {},
     "output_type": "display_data"
    }
   ],
   "source": [
    "finish_model <- lmer(finishedRace ~ 1 + (1 | driverId) + (1 | constructorId), data = finish_model_data) # nolint: line_length_linter.\n",
    "summary(finish_model)"
   ]
  }
 ],
 "metadata": {
  "kernelspec": {
   "display_name": "R",
   "language": "R",
   "name": "ir"
  },
  "language_info": {
   "codemirror_mode": "r",
   "file_extension": ".r",
   "mimetype": "text/x-r-source",
   "name": "R",
   "pygments_lexer": "r",
   "version": "3.6.1"
  }
 },
 "nbformat": 4,
 "nbformat_minor": 2
}
