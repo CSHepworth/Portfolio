{
 "cells": [
  {
   "cell_type": "code",
   "execution_count": 8,
   "metadata": {
    "vscode": {
     "languageId": "r"
    }
   },
   "outputs": [],
   "source": [
    "library(ggplot2)\n",
    "library(tidyr)\n",
    "library(dplyr)\n",
    "library(lattice)\n",
    "library(lme4)"
   ]
  },
  {
   "cell_type": "code",
   "execution_count": 9,
   "metadata": {
    "vscode": {
     "languageId": "r"
    }
   },
   "outputs": [
    {
     "data": {
      "text/html": [
       "<ol class=list-inline>\n",
       "\t<li>'raceId'</li>\n",
       "\t<li>'Constructor'</li>\n",
       "\t<li>'Driver'</li>\n",
       "\t<li>'tbl'</li>\n",
       "</ol>\n"
      ],
      "text/latex": [
       "\\begin{enumerate*}\n",
       "\\item 'raceId'\n",
       "\\item 'Constructor'\n",
       "\\item 'Driver'\n",
       "\\item 'tbl'\n",
       "\\end{enumerate*}\n"
      ],
      "text/markdown": [
       "1. 'raceId'\n",
       "2. 'Constructor'\n",
       "3. 'Driver'\n",
       "4. 'tbl'\n",
       "\n",
       "\n"
      ],
      "text/plain": [
       "[1] \"raceId\"      \"Constructor\" \"Driver\"      \"tbl\"        "
      ]
     },
     "metadata": {},
     "output_type": "display_data"
    },
    {
     "data": {
      "text/html": [
       "<ol class=list-inline>\n",
       "\t<li>7670</li>\n",
       "\t<li>4</li>\n",
       "</ol>\n"
      ],
      "text/latex": [
       "\\begin{enumerate*}\n",
       "\\item 7670\n",
       "\\item 4\n",
       "\\end{enumerate*}\n"
      ],
      "text/markdown": [
       "1. 7670\n",
       "2. 4\n",
       "\n",
       "\n"
      ],
      "text/plain": [
       "[1] 7670    4"
      ]
     },
     "metadata": {},
     "output_type": "display_data"
    }
   ],
   "source": [
    "f1data <- read.csv(\"f1_mixed_effects_data.csv\")\n",
    "\n",
    "names(f1data)\n",
    "dim(f1data)"
   ]
  },
  {
   "cell_type": "code",
   "execution_count": 10,
   "metadata": {
    "vscode": {
     "languageId": "r"
    }
   },
   "outputs": [],
   "source": [
    "tbl_model_combined <- lmer(tbl ~ 1 + (1 | Constructor) + (1 | Driver), data = f1data) # nolint"
   ]
  },
  {
   "cell_type": "code",
   "execution_count": 11,
   "metadata": {
    "vscode": {
     "languageId": "r"
    }
   },
   "outputs": [
    {
     "data": {
      "text/plain": [
       "Linear mixed model fit by REML ['lmerMod']\n",
       "Formula: tbl ~ 1 + (1 | Constructor) + (1 | Driver)\n",
       "   Data: f1data\n",
       "\n",
       "REML criterion at convergence: 194063.5\n",
       "\n",
       "Scaled residuals: \n",
       "   Min     1Q Median     3Q    Max \n",
       "-5.906 -0.324 -0.084  0.259 66.955 \n",
       "\n",
       "Random effects:\n",
       " Groups      Name        Variance  Std.Dev.\n",
       " Driver      (Intercept) 1.190e+10 109107  \n",
       " Constructor (Intercept) 3.042e+09  55157  \n",
       " Residual                4.917e+09  70118  \n",
       "Number of obs: 7670, groups:  Driver, 331; Constructor, 96\n",
       "\n",
       "Fixed effects:\n",
       "            Estimate Std. Error t value\n",
       "(Intercept)   123189       8927    13.8"
      ]
     },
     "metadata": {},
     "output_type": "display_data"
    }
   ],
   "source": [
    "summary(tbl_model_combined)"
   ]
  },
  {
   "cell_type": "code",
   "execution_count": 12,
   "metadata": {
    "vscode": {
     "languageId": "r"
    }
   },
   "outputs": [
    {
     "data": {
      "text/plain": [
       "$Driver\n",
       "\n",
       "$Constructor\n"
      ]
     },
     "metadata": {},
     "output_type": "display_data"
    },
    {
     "data": {
      "image/png": "[encoded data removed]",
      "text/plain": [
       "plot without title"
      ]
     },
     "metadata": {},
     "output_type": "display_data"
    },
    {
     "data": {
      "image/png": "[encoded data removed]",
      "text/plain": [
       "plot without title"
      ]
     },
     "metadata": {},
     "output_type": "display_data"
    }
   ],
   "source": [
    "dotplot(ranef(tbl_model_combined, condVar = TRUE), scales = list(y = list(draw = FALSE))) # nolint"
   ]
  }
 ],
 "metadata": {
  "kernelspec": {
   "display_name": "R",
   "language": "R",
   "name": "ir"
  },
  "language_info": {
   "codemirror_mode": "r",
   "file_extension": ".r",
   "mimetype": "text/x-r-source",
   "name": "R",
   "pygments_lexer": "r",
   "version": "3.6.1"
  }
 },
 "nbformat": 4,
 "nbformat_minor": 2
}
